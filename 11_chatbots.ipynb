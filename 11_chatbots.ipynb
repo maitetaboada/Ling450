{
 "cells": [
  {
   "cell_type": "markdown",
   "metadata": {},
   "source": [
    "# Creating a chatbot\n",
    "\n",
    "There are many ways of doing this. One approach would be to use spaCy's Matcher and follow some of the ELIZA-type rules to provide answers.\n",
    "\n",
    "You can also use some of spaCy's chatbot libraries and train your own. Let's try just these two simple approaches. "
   ]
  },
  {
   "cell_type": "markdown",
   "metadata": {},
   "source": [
    "## 1. Using Matcher\n",
    "\n",
    "[ELIZA](https://en.wikipedia.org/wiki/ELIZA) was a chatbot created by Joseph Weizenbaum in the 1960s to mimick a (type of) therapist: someone who asks you further questions about what you are saying. \n",
    "\n",
    "The answers where like this:\n",
    "\n",
    "* <font color=\"green\">Human: Well, my boyfriend made me come here.</font>\n",
    "* <font color=\"purple\">Eliza: Your boyfriend made you come here</font>\n",
    "* <font color=\"green\">Human: He says I'm depressed much of the time.</font>\n",
    "* <font color=\"purple\">Eliza: I am sorry to hear you are depressed</font>\n",
    "* <font color=\"green\">Human: It's true. I am unhappy.</font>\n",
    "* <font color=\"purple\">Eliza: Do you think coming here will help you not to be unhappy</font>\n",
    "* <font color=\"green\">Human: I need some help, tahat much seems certain</font>\n",
    "* <font color=\"purple\">Eliza: What would it mean to you if you got some help</font>\n",
    "\n",
    "Text is from Weizenbaum, J. (1966). [ELIZA—a computer program for the study of natural language communication between man and machine](https://dl.acm.org/doi/10.1145/365153.365168). Communications of the ACM, 9(1), 36-45.\n",
    "\n",
    "You can see that you can create the answers by using pattern-matching, introducing things like \"I am sorry you are X\", when X is in a pre-defined list of negative mental states. \n",
    "\n",
    "This particular implementation is based on [Ahilya's](https://heartbeat.comet.ml/chatbot-development-using-spacy-4f6515cb17b8). It produces an extremely simple dialogue; just a greeting and only in response to \"hello\". You can extend it with other patterns. "
   ]
  },
  {
   "cell_type": "code",
   "execution_count": null,
   "metadata": {},
   "outputs": [],
   "source": [
    "import spacy\n",
    "from spacy.matcher import Matcher\n",
    "\n",
    "# load the SpaCy model\n",
    "nlp = spacy.load(\"en_core_web_sm\")"
   ]
  },
  {
   "cell_type": "code",
   "execution_count": null,
   "metadata": {},
   "outputs": [],
   "source": [
    "# define the chatbot's dialogue flow\n",
    "def respond(message):\n",
    "    doc = nlp(message)\n",
    "    for token in doc:\n",
    "        if token.pos_ == \"VERB\":\n",
    "            return \"I'm sorry, I don't understand.\"\n",
    "    return \"I'm sorry, can you please rephrase your question?\"\n",
    "\n",
    "# set up the matcher to recognize specific patterns\n",
    "matcher = Matcher(nlp.vocab)\n",
    "matcher.add(\"Greeting\", [[{\"LOWER\": \"hello\"}]])\n",
    "\n",
    "# define the chatbot's interaction loop\n",
    "while True:\n",
    "    message = input(\"You: \")\n",
    "    if message.lower() == \"quit\":\n",
    "        break\n",
    "    else:\n",
    "        matches = matcher(nlp(message))\n",
    "        if matches:\n",
    "            print(\"Bot: Hello there!\")\n",
    "        else:\n",
    "            print(\"Bot:\", respond(message))"
   ]
  },
  {
   "cell_type": "markdown",
   "metadata": {},
   "source": [
    "## 2. Using spaCy's Chatterbot\n",
    "\n",
    "This one is very simple, if it works. But it has lots of dependencies that involve other modules. If the install command below doesn't work for you, maybe give up, because it's hard to get all the dependencies to work. \n",
    "\n",
    "The code below is from [spaCy's site](https://spacy.io/universe/project/Chatterbot).\n",
    "\n",
    "As usual, we start with installing the module. Uncomment the first line below if you have never installed Chatterbot on your device before. \n",
    "\n",
    "Then, you'll have to import spaCy and load the small English model. "
   ]
  },
  {
   "cell_type": "code",
   "execution_count": null,
   "metadata": {},
   "outputs": [],
   "source": [
    "!pip install chatterbot"
   ]
  },
  {
   "cell_type": "code",
   "execution_count": null,
   "metadata": {},
   "outputs": [],
   "source": [
    "pip install typing-extensions"
   ]
  },
  {
   "cell_type": "code",
   "execution_count": null,
   "metadata": {},
   "outputs": [],
   "source": [
    "# This just tells Chatterbot where to find the spaCy English model\n",
    "\n",
    "from chatterbot import languages\n",
    "languages.ENG.ISO_639_1 = \"en_core_web_sm\""
   ]
  },
  {
   "cell_type": "code",
   "execution_count": null,
   "metadata": {},
   "outputs": [],
   "source": [
    "from chatterbot import ChatBot\n",
    "from chatterbot.trainers import ListTrainer"
   ]
  },
  {
   "cell_type": "code",
   "execution_count": null,
   "metadata": {},
   "outputs": [],
   "source": [
    "# Create a new chat bot named Charlie\n",
    "chatbot = ChatBot('Charlie')\n",
    "trainer = ListTrainer(chatbot)\n",
    "trainer.train([\n",
    "'Hi, can I help you?',\n",
    "'Sure, I would like to book a flight to Iceland.',\n",
    "'Your flight has been booked.'\n",
    "])"
   ]
  },
  {
   "cell_type": "code",
   "execution_count": null,
   "metadata": {},
   "outputs": [],
   "source": [
    "response = chatbot.get_response('I would like to book a flight.')\n",
    "\n",
    "print(response)"
   ]
  },
  {
   "cell_type": "markdown",
   "metadata": {},
   "source": [
    "### Chatterbot with a trained corpus\n",
    "\n",
    "You can also train it on an existing corpus, rather than inputting your own set of sentences. You then need to install the corpus and the pytz library. The chatterbot_corpus is also hard to get to install with the right dependencies. "
   ]
  },
  {
   "cell_type": "code",
   "execution_count": null,
   "metadata": {},
   "outputs": [],
   "source": [
    "!pip install chatterbot_corpus\n",
    "!pip install pytz"
   ]
  },
  {
   "cell_type": "code",
   "execution_count": null,
   "metadata": {},
   "outputs": [],
   "source": [
    "from chatterbot.trainers import ChatterBotCorpusTrainer"
   ]
  },
  {
   "cell_type": "code",
   "execution_count": null,
   "metadata": {},
   "outputs": [],
   "source": [
    "chatbot = ChatBot('Hai')\n",
    "trainer = ChatterBotCorpusTrainer(chatbot)\n",
    "trainer.train('chatterbot.corpus.english')"
   ]
  },
  {
   "cell_type": "code",
   "execution_count": null,
   "metadata": {},
   "outputs": [],
   "source": [
    "response = chatbot.get_response('Hello, how are you?') \n",
    "print(response)"
   ]
  },
  {
   "cell_type": "markdown",
   "metadata": {},
   "source": [
    "## 3. Other chatbots and tips for building one\n",
    "\n",
    "* https://github.com/cisco/mindmeld \n",
    "* https://www.machinelearningplus.com/nlp/chatbot-with-rasa-and-spacy/"
   ]
  },
  {
   "cell_type": "code",
   "execution_count": null,
   "metadata": {},
   "outputs": [],
   "source": []
  }
 ],
 "metadata": {
  "kernelspec": {
   "display_name": "Python 3 (ipykernel)",
   "language": "python",
   "name": "python3"
  },
  "language_info": {
   "codemirror_mode": {
    "name": "ipython",
    "version": 3
   },
   "file_extension": ".py",
   "mimetype": "text/x-python",
   "name": "python",
   "nbconvert_exporter": "python",
   "pygments_lexer": "ipython3",
   "version": "3.9.7"
  }
 },
 "nbformat": 4,
 "nbformat_minor": 2
}
