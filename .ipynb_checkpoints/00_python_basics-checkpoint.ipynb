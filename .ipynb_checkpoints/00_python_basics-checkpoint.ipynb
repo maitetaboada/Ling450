{
 "cells": [
  {
   "cell_type": "markdown",
   "metadata": {},
   "source": [
    "# 1. Quick intro to Jupyter Notebooks\n",
    "\n",
    "For more info: [Jupyter Notebooks introduction](https://realpython.com/jupyter-notebook-introduction/)"
   ]
  },
  {
   "cell_type": "markdown",
   "metadata": {},
   "source": [
    "### Notebook basics\n",
    "\n",
    "Try to run the following code block. Remember that the shortcut is `shift+enter`, or you can press \"Run\" in the menu:"
   ]
  },
  {
   "cell_type": "code",
   "execution_count": null,
   "metadata": {},
   "outputs": [],
   "source": [
    "#This is going to print something\n",
    "print(\"Welcome to Ling 450/807!\") #a comment can also go here"
   ]
  },
  {
   "cell_type": "markdown",
   "metadata": {},
   "source": [
    "Great! You did a code block. You can also write text blocks, changing the drop-down menu above to \"Markdown\". You will need to get familiar with [markdown syntax](https://www.markdownguide.org/basic-syntax/).\n",
    "\n",
    "It's good practice to write very specific comments next to your code (right before or to the right of it), but general observations in markdown blocks.\n",
    "A comment line in python is any line that starts with a \"hashtag\". This hashtag tells python to ignore whatever is after the hashtag and to go to the next line."
   ]
  },
  {
   "cell_type": "markdown",
   "metadata": {},
   "source": [
    "# 2. Python refresher\n",
    "\n",
    "You should have some familiarity with python and programming in general. This is a quick refresher. If you want to learn more Python on your own, this is a good resource: [Learn Python](https://www.learnpython.org/)"
   ]
  },
  {
   "cell_type": "markdown",
   "metadata": {},
   "source": [
    "### Variables\n",
    "A variable is really just a way to store information like numbers, strings of words or even whole texts. To use a variable in Python you need to give the variable a name and then give it some value.\n",
    "\n",
    "Variables can be numbers (integers or floats) and strings. \n",
    "\n",
    "Notice that in order to assign strings to a variable you need to put the string in quotation marks. Whenever Python sees something in quotation marks, it will assume that it is a string. This means that when you want to print the contents of a variable, you do not want to put it in quotation marks, since that will just print the name of the variable instead of the contents."
   ]
  },
  {
   "cell_type": "code",
   "execution_count": null,
   "metadata": {},
   "outputs": [],
   "source": [
    "word = \"rejuvenate\" #This was the word of the day for Jan 1, 2025, according to Merriam Webster\n",
    "letters = 10\n",
    "\n",
    "print(word)\n",
    "print(letters)\n",
    "\n",
    "# if we put quotation marks around the variable name it will just print the name of the variable\n",
    "print(\"word\")\n",
    "print(\"letters\")\n",
    "\n",
    "print(\"The word\", word, \"has\", letters, \"letters.\")"
   ]
  },
  {
   "cell_type": "markdown",
   "metadata": {},
   "source": [
    "Sentences are just strings, so we define them with quotation marks."
   ]
  },
  {
   "cell_type": "code",
   "execution_count": null,
   "metadata": {},
   "outputs": [],
   "source": [
    "sentence = \"The hotel package includes a day at the spa to rejuvenate guests.\"\n",
    "print(sentence)"
   ]
  },
  {
   "cell_type": "markdown",
   "metadata": {},
   "source": [
    "If you are not sure what type of variable something is, you can just check its type with `type()`."
   ]
  },
  {
   "cell_type": "code",
   "execution_count": null,
   "metadata": {},
   "outputs": [],
   "source": [
    "type(word)"
   ]
  },
  {
   "cell_type": "code",
   "execution_count": null,
   "metadata": {},
   "outputs": [],
   "source": [
    "type(sentence)"
   ]
  },
  {
   "cell_type": "code",
   "execution_count": null,
   "metadata": {},
   "outputs": [],
   "source": [
    "type(letters)"
   ]
  },
  {
   "cell_type": "markdown",
   "metadata": {},
   "source": [
    "### Lists\n",
    "\n",
    "Lists are just objects, a data type in python. They are defined with square brackets. You can either create an empty list and populate it later or create and populate it all at the same time. "
   ]
  },
  {
   "cell_type": "code",
   "execution_count": null,
   "metadata": {},
   "outputs": [],
   "source": [
    "#create an empty list and append stuff to it\n",
    "myList = []\n",
    "myList.append(1)\n",
    "myList.append(2)\n",
    "myList.append(3)\n",
    "\n",
    "print(myList[0]) # prints 1\n",
    "print(myList[1]) # prints 2\n",
    "print(myList[2]) # prints 3\n",
    "print(myList) #prints the whole list"
   ]
  },
  {
   "cell_type": "code",
   "execution_count": null,
   "metadata": {},
   "outputs": [],
   "source": [
    "#create and populate a list\n",
    "myListOfDets = [\"a\", \"the\", \"my\", \"that\"]\n",
    "\n",
    "print(myListOfDets)"
   ]
  },
  {
   "cell_type": "markdown",
   "metadata": {},
   "source": [
    "You can also add to a specific place in the list with: `myListOfDets.insert(4, \"some\")`\n",
    "Or append to the end with: `myListOfDets.append(\"one\")`\n",
    "Try those 2 commands in the code block below and print the list again."
   ]
  },
  {
   "cell_type": "code",
   "execution_count": null,
   "metadata": {},
   "outputs": [],
   "source": []
  },
  {
   "cell_type": "markdown",
   "metadata": {},
   "source": [
    "### Working with strings\n",
    "\n",
    "Most of the text data we will work on is in the form of strings. We can manipulate strings with different methods.\n",
    "\n",
    "The `split()` method, for instance, splits a string into a list. The `sep` argument defines the character that is used as the boundary for a split. By default, the separator is a whitespace or empty space.\n",
    "\n",
    "Let's use the `split()` method to split a string under text at empty space."
   ]
  },
  {
   "cell_type": "code",
   "execution_count": null,
   "metadata": {},
   "outputs": [],
   "source": [
    "#first, define a string with extra stuff in it, like HTML tags\n",
    "text = \"<p>This is an <b>example</b> string with some HTML tags thrown in.</p>\""
   ]
  },
  {
   "cell_type": "code",
   "execution_count": null,
   "metadata": {},
   "outputs": [],
   "source": [
    "#then, put that string into another variable, a list of tokens, that is, words separated by an empty space\n",
    "tokens = text.split(sep=' ')"
   ]
  },
  {
   "cell_type": "code",
   "execution_count": null,
   "metadata": {},
   "outputs": [],
   "source": [
    "print(tokens)"
   ]
  },
  {
   "cell_type": "markdown",
   "metadata": {},
   "source": [
    "But now we have a list with words, yes, but also stuff attached to those words (the HTML tags). What if we want to get rid of those? Python strings also have a `replace()` method, which allows replacing specific characters or their sequences in a string.\n",
    "\n",
    "Let's begin by replacing the initial tag `<p>` in text by providing `<p>` as input to its replace method. Note that the tag `<p>` is in quotation marks, as the replace method requires the input to be a string. The replace method takes two inputs: the string to be replaced (`<p>`) and the replacement (' '). By providing an empty string as input to the second argument, we essentially remove any matches from the string."
   ]
  },
  {
   "cell_type": "code",
   "execution_count": null,
   "metadata": {},
   "outputs": [],
   "source": [
    "text = text.replace('<p>', '')"
   ]
  },
  {
   "cell_type": "code",
   "execution_count": null,
   "metadata": {},
   "outputs": [],
   "source": [
    "print(text)"
   ]
  },
  {
   "cell_type": "markdown",
   "metadata": {},
   "source": [
    "You could continue this same procedure to get rid of the other tags and then finally create a list of tokens with only words in it. "
   ]
  },
  {
   "cell_type": "markdown",
   "metadata": {},
   "source": [
    "###  Conditions and loops\n",
    "\n",
    "Conditions and loops are essentially **functions**. Remember myList above? we used 3 print statements to print 1, 2, 3. You can iterate over a list with a for loop. Or you can create conditions for what to do with an if loop."
   ]
  },
  {
   "cell_type": "code",
   "execution_count": null,
   "metadata": {},
   "outputs": [],
   "source": [
    "for x in myList:\n",
    "    print(x)"
   ]
  },
  {
   "cell_type": "code",
   "execution_count": null,
   "metadata": {},
   "outputs": [],
   "source": [
    "for x in myListOfDets:\n",
    "    print(x)"
   ]
  },
  {
   "cell_type": "code",
   "execution_count": null,
   "metadata": {},
   "outputs": [],
   "source": [
    "if type(letters) == int:\n",
    "    print(\"The variable\", \"letters\", \"is an integer.\")"
   ]
  },
  {
   "cell_type": "code",
   "execution_count": null,
   "metadata": {},
   "outputs": [],
   "source": [
    "for x in myListOfDets:\n",
    "    if x == \"the\":\n",
    "        print(\"The list\", \"myListOfDets\", \"contains at least one determiner.\")"
   ]
  },
  {
   "cell_type": "markdown",
   "metadata": {},
   "source": [
    "### Functions\n",
    "Functions are blocks of code that allow you to do things repeatedly and more efficiently. Some functions, like `for` and `if`, are already pre-defined in python. But you can also write your own functions. They have the following structure. Note the structure:\n",
    "* name of the function (`head`)\n",
    "* parentheses after the name (`()`)\n",
    "* colon after name and parentheses (`:`)\n",
    "* indent after the head. Use the `Tab` key on your keyboard to insert the indent\n",
    "\n",
    "`head():\n",
    "    function_line(s)`\n",
    "\n",
    "The head often has one or more arguments, which you put in the parentheses in the head. The function lines often include something that you return (often a manipulation of the arguments). To create a new function, you first have to define it with `def`.    "
   ]
  },
  {
   "cell_type": "code",
   "execution_count": null,
   "metadata": {},
   "outputs": [],
   "source": [
    "#first, we define the function\n",
    "def printing_function():\n",
    "    print(\"This function prints this statement.\")"
   ]
  },
  {
   "cell_type": "code",
   "execution_count": null,
   "metadata": {},
   "outputs": [],
   "source": [
    "#then, we can call it\n",
    "printing_function()"
   ]
  },
  {
   "cell_type": "markdown",
   "metadata": {},
   "source": [
    "Note that this is a pretty useless function definition. Python has many pre-defined functions, so we don't need to write our own. The function `printing_function()` just prints one statement (\"This function prints this statement\"). The built-in `print()` function can print anything that you put in the parentheses."
   ]
  },
  {
   "cell_type": "code",
   "execution_count": null,
   "metadata": {},
   "outputs": [],
   "source": [
    "#now we define a function with two arguments. Instead of doing something, this function returns something (the sum)\n",
    "def add_two_numbers(a,b):\n",
    "    return a + b"
   ]
  },
  {
   "cell_type": "code",
   "execution_count": null,
   "metadata": {},
   "outputs": [],
   "source": [
    "add_two_numbers(1,1)"
   ]
  },
  {
   "cell_type": "markdown",
   "metadata": {},
   "source": [
    "This is also a useless function. The `add_two_numbers()` function just does something that comes pre-built in python, the addition function."
   ]
  },
  {
   "cell_type": "code",
   "execution_count": null,
   "metadata": {},
   "outputs": [],
   "source": [
    "a = 1\n",
    "b = 1\n",
    "a + b"
   ]
  },
  {
   "cell_type": "markdown",
   "metadata": {},
   "source": [
    "### Classes and objects\n",
    "\n",
    "When you want to manipulate several variables and do different things with them, you can define classes. Classes create new types of objects (which is why python is an object-oriented language). "
   ]
  },
  {
   "cell_type": "code",
   "execution_count": null,
   "metadata": {},
   "outputs": [],
   "source": [
    "#we define a class that contains just one variable and just one function\n",
    "\n",
    "class myClass:\n",
    "    variable = \"blah\"\n",
    "\n",
    "    def function(self):\n",
    "        print(\"This is a message inside the class.\")"
   ]
  },
  {
   "cell_type": "markdown",
   "metadata": {},
   "source": [
    "Now that we have a class, we can define objects of this class. An object is an instance of that class. Those objects will contain the variables and functions available within the class\n"
   ]
  },
  {
   "cell_type": "code",
   "execution_count": null,
   "metadata": {},
   "outputs": [],
   "source": [
    "#creating an object and making it of type myClass:\n",
    "\n",
    "myObject = myClass()"
   ]
  },
  {
   "cell_type": "code",
   "execution_count": null,
   "metadata": {},
   "outputs": [],
   "source": [
    "#now we can access the properties of the class through the object\n",
    "\n",
    "print(myObject.variable)\n",
    "myObject.function()"
   ]
  },
  {
   "cell_type": "code",
   "execution_count": null,
   "metadata": {},
   "outputs": [],
   "source": [
    "#and change those properties\n",
    "\n",
    "myObject.variable = \"foo\"\n",
    "print(myObject.variable)"
   ]
  },
  {
   "cell_type": "markdown",
   "metadata": {},
   "source": [
    "### Libraries (modules, packages)\n",
    "\n",
    "Python itself contains lots of libraries and packages that in turn have functions pre-defined. Other people also create libraries to do standard things. \n",
    "\n",
    "Libraries (or packages) are entire programs that do certain things. Sometimes, those libraries have modules that do more specific things. \n",
    "\n",
    "Libraries that we are going to use a lot include:\n",
    "\n",
    "* numpy\n",
    "* pandas\n",
    "* nltk\n",
    "* spacy\n",
    "\n",
    "If you are importing an entire library, you just import everything:\n",
    "\n",
    "`import nltk`\n",
    "\n",
    "To import a module from that library:\n",
    "\n",
    "`from nltk import tokenizer`"
   ]
  },
  {
   "cell_type": "code",
   "execution_count": null,
   "metadata": {},
   "outputs": [],
   "source": []
  }
 ],
 "metadata": {
  "kernelspec": {
   "display_name": "Python 3",
   "language": "python",
   "name": "python3"
  },
  "language_info": {
   "codemirror_mode": {
    "name": "ipython",
    "version": 3
   },
   "file_extension": ".py",
   "mimetype": "text/x-python",
   "name": "python",
   "nbconvert_exporter": "python",
   "pygments_lexer": "ipython3",
   "version": "3.7.3"
  }
 },
 "nbformat": 4,
 "nbformat_minor": 4
}
